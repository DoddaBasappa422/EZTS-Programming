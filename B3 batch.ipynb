{
 "cells": [
  {
   "cell_type": "code",
   "execution_count": 2,
   "metadata": {},
   "outputs": [
    {
     "name": "stdout",
     "output_type": "stream",
     "text": [
      "3 3 2\n",
      "[0, 0, 0, 1, 1, 1, 2, 2]\n"
     ]
    }
   ],
   "source": [
    "#Sort\n",
    "list=[2,1,0,1,1,2,0,0]\n",
    "c=0\n",
    "c1=0\n",
    "c2=0\n",
    "for i in range(len(list)):\n",
    "    if list[i]==0:\n",
    "        c=c+1\n",
    "    elif list[i]==1:\n",
    "        c1=c1+1\n",
    "    else:\n",
    "        c2=c2+1\n",
    "print(c,c1,c2)\n",
    "j=0\n",
    "while c>0:\n",
    "    list[j]=0\n",
    "    j=j+1\n",
    "    c-=1\n",
    "while c1>0:\n",
    "    list[j]=1\n",
    "    j=j+1\n",
    "    c1-=1\n",
    "while c2>0:\n",
    "    list[j]=2\n",
    "    j=j+1\n",
    "    c2-=1\n",
    "print(list)\n"
   ]
  },
  {
   "cell_type": "code",
   "execution_count": 4,
   "metadata": {},
   "outputs": [
    {
     "name": "stdout",
     "output_type": "stream",
     "text": [
      "3\n",
      "153\n",
      "Amstrong number\n"
     ]
    }
   ],
   "source": [
    "#Amstrong number\n",
    "\n",
    "n=int(input(\"enter the number:\\n\"))\n",
    "temp=n\n",
    "m=n\n",
    "r=0\n",
    "c=0\n",
    "while n!=0:\n",
    "    n=n//10\n",
    "    c=c+1\n",
    "print(c)\n",
    "while temp!=0:\n",
    "    rem=temp%10\n",
    "    p=pow(rem,c)\n",
    "    r=r+p\n",
    "    temp=temp//10   \n",
    "print(r)\n",
    "if m==r:\n",
    "    print(\"Amstrong number\")\n",
    "else:\n",
    "    print(\"Not A Amstrong number\")\n",
    "\n",
    "\n",
    "\n"
   ]
  },
  {
   "cell_type": "code",
   "execution_count": 6,
   "metadata": {},
   "outputs": [
    {
     "name": "stdout",
     "output_type": "stream",
     "text": [
      "3 3 2\n",
      "[0, 0, 0, 1, 1, 1, 2, 2]\n"
     ]
    }
   ],
   "source": [
    "#Big Oh\n",
    "list=[2,1,0,1,1,2,0,0]\n",
    "c=0\n",
    "c1=0\n",
    "c2=0\n",
    "for i in range(len(list)):\n",
    "    if list[i]==0:\n",
    "        c=c+1\n",
    "    elif list[i]==1:\n",
    "        c1=c1+1\n",
    "    else:\n",
    "        c2=c2+1\n",
    "print(c,c1,c2)\n",
    "j=0\n",
    "while c>0:\n",
    "    list[j]=0\n",
    "    j=j+1\n",
    "    c-=1\n",
    "while c1>0:\n",
    "    list[j]=1\n",
    "    j=j+1\n",
    "    c1-=1\n",
    "while c2>0:\n",
    "    list[j]=2\n",
    "    j=j+1\n",
    "    c2-=1\n",
    "print(list)\n"
   ]
  },
  {
   "cell_type": "code",
   "execution_count": 7,
   "metadata": {},
   "outputs": [
    {
     "name": "stdout",
     "output_type": "stream",
     "text": [
      "Toyota,Mercedes\n",
      "Welcome to toyo\n",
      "Select from Fortuner and LC\n",
      "Select from Petrol and Diesel\n",
      "1016760\n"
     ]
    }
   ],
   "source": [
    "'''\n",
    "1.Create a class of car show room in which create a function (name car company) which will allow a user to select car company out of the displayed company.\n",
    " if the user enters any random car company he or she should be asked to re-enter.\n",
    "2.According to the car company selected the user should be redirected to selecting the models of that company out of the given list, if any random models entered then again re-enter.\n",
    "3.After selecting the model the user should be redirected to selecting the variant.\n",
    "4.According to the car company model and variant a price should be calculated to which SGST and CGST are added to make it the total price.\n",
    "NOTE: SGST and CGST are common for all the cars'''\n",
    "\n",
    "\n",
    "class car:\n",
    "    def __init__(self):\n",
    "        self.cgst=5555\n",
    "        self.sgst=5555\n",
    "        self.insurance=5555\n",
    "    def company(self):\n",
    "        while True:\n",
    "                print(\"Toyota,Mercedes\")\n",
    "                self.n=input(\"Enter the car company: \")\n",
    "                if self.n==\"Toyota\":\n",
    "                     print(\"Welcome to toyo\")\n",
    "                     self.model()\n",
    "                     break\n",
    "                elif self.n==\"Mercedes\":\n",
    "                    print(\"Welcome to mercedes\")\n",
    "                    self.model()\n",
    "                    break\n",
    "                else:\n",
    "                     print(\"enter valid company\")\n",
    "    def model(self):\n",
    "        if self.n==\"Toyota\":\n",
    "            while True:\n",
    "                print(\"Select from Fortuner and LC\")\n",
    "                self.choice=input(\"Enter the car model: \")\n",
    "                if self.choice==\"Fortuner\":\n",
    "                    self.p=4500000\n",
    "                    while True:\n",
    "                        print(\"Select from Petrol and Diesel\")\n",
    "                        self.choice=input(\"Enter the variant:\")\n",
    "                        if self.choice==\"Petrol\":\n",
    "                            self.price(self.choice,self.p)\n",
    "                            break\n",
    "                        elif self.choice==\"Diesel\":\n",
    "                            self.price(self.choice,self.p)\n",
    "                            break\n",
    "                        else:\n",
    "                            print(\"Enter valid\")\n",
    "                    break\n",
    "                elif self.choice==\"LC\":\n",
    "                    self.p=1000000\n",
    "                    while True:\n",
    "                        print(\"Select from Petrol and Diesel\")\n",
    "                        self.choice=input(\"Enter the variant:\")\n",
    "                        if self.choice==\"Petrol\":     \n",
    "                            self.price(self.choice,self.p)\n",
    "                            break\n",
    "                        elif self.choice==\"Diesel\":\n",
    "                            self.price(self.choice,self.p)\n",
    "                            break\n",
    "                        else:\n",
    "                            print(\"Enter valid\")\n",
    "                    break\n",
    "                else:\n",
    "                    print(\"Enter valid\")\n",
    "        elif self.n==\"Mercedes\":\n",
    "            while True:\n",
    "                print(\"Select from amg and gw\")\n",
    "                self.choice=input(\"Enter the car model: \")\n",
    "                if self.choice==\"amg\":\n",
    "                    self.p=24432874\n",
    "                    while True:\n",
    "                        print(\"Select from Petrol and Diesel\")\n",
    "                        self.choice=input(\"Enter the variant:\")\n",
    "                        if self.choice==\"Petrol\":\n",
    "                            self.price(self.choice,self.p)\n",
    "                            break\n",
    "                        elif self.choice==\"Diesel\":\n",
    "                            self.price(self.choice,self.p)\n",
    "                            break\n",
    "                        else:\n",
    "                            print(\"Enter valid\")\n",
    "                    break        \n",
    "                elif self.choice==\"gw\":\n",
    "                    self.p=843726837\n",
    "                    while True:\n",
    "                        print(\"Select from Petrol and Diesel\")\n",
    "                        self.choice=input(\"Enter the variant:\")\n",
    "                        if self.choice==\"Petrol\":   \n",
    "                            self.price(self.choice,self.p)\n",
    "                            break\n",
    "                        elif self.choice==\"Diesel\":\n",
    "                            self.price(self.choice,self.p)\n",
    "                            break\n",
    "                        else:\n",
    "                           print(\"Enter valid\")\n",
    "                    break\n",
    "                else:\n",
    "                    print(\"Enter valid\")\n",
    "    def price(self,choice,pr):\n",
    "        self.pr=0\n",
    "        if choice==\"Petrol\":\n",
    "            self.pr=110\n",
    "        elif choice==\"Diesel\":\n",
    "            self.pr=95   \n",
    "        tot_p=self.p+self.sgst+self.cgst+self.insurance+self.pr\n",
    "        print(tot_p)\n",
    "c=car()\n",
    "c.company()\n",
    "        \n",
    "              \n",
    "       \n",
    "            \n",
    "        \n",
    "    \n",
    "     "
   ]
  },
  {
   "cell_type": "code",
   "execution_count": 8,
   "metadata": {},
   "outputs": [
    {
     "name": "stdout",
     "output_type": "stream",
     "text": [
      "black\n"
     ]
    }
   ],
   "source": [
    "\n",
    "#chess board\n",
    "e_r=\"2468\"\n",
    "o_r=\"1357\"\n",
    "e_c=\"bdfh\"\n",
    "o_c=\"aceg\"\n",
    "s=input(\"Enter the co-ordinates: \")\n",
    "if s[0] in e_c:\n",
    "    if s[1] in e_r:\n",
    "        print(\"black\")\n",
    "    else:\n",
    "        print(\"white\")\n",
    "else:\n",
    "    if s[1] in e_r:\n",
    "        print(\"white\")\n",
    "    else:\n",
    "        print(\"black\")\n"
   ]
  },
  {
   "cell_type": "code",
   "execution_count": 9,
   "metadata": {},
   "outputs": [
    {
     "name": "stdout",
     "output_type": "stream",
     "text": [
      "I am constructor\n",
      "the strength is 101\n",
      "the knowledge is good\n",
      "20\n",
      "the current strength and the knowledge\n",
      "91 Good\n",
      "8\n"
     ]
    }
   ],
   "source": [
    "#class\n",
    "class cse1:\n",
    "    def __init__(self,a,b) : #parameterised constructor\n",
    "        self.a1=a\n",
    "        self.b1=b\n",
    "        print(\"I am constructor\")\n",
    "\n",
    "    def strength(self):\n",
    "        print(\"the strength is 101\")\n",
    "        self.s=101\n",
    "    \n",
    "    def kn(self,c,d):\n",
    "        print(\"the knowledge is good\")\n",
    "        self.know=\"Good\"\n",
    "        pro=c*d\n",
    "        print(pro)\n",
    "    \n",
    "    def details(self):\n",
    "        print(\"the current strength and the knowledge\")\n",
    "        c_s=self.s-10\n",
    "        print(c_s,self.know)\n",
    "        print(self.a1+self.b1)\n",
    "\n",
    "day_2=cse1(3,5)\n",
    "day_2.strength()\n",
    "day_2.kn(2,10)\n",
    "day_2.details()\n"
   ]
  },
  {
   "cell_type": "code",
   "execution_count": 11,
   "metadata": {},
   "outputs": [
    {
     "name": "stdout",
     "output_type": "stream",
     "text": [
      "2\n",
      "18\n"
     ]
    }
   ],
   "source": [
    "#Disarium number\n",
    "n=int(input(\"enter the number:\\n\"))\n",
    "temp=n\n",
    "m=n\n",
    "r=0\n",
    "c=0\n",
    "while n!=0:\n",
    "    n=n//10\n",
    "    c=c+1\n",
    "print(c)\n",
    "while temp!=0:\n",
    "    rem=temp%10\n",
    "    p=pow(rem,c)\n",
    "    c=c-1\n",
    "    r=r+p\n",
    "    temp=temp//10   \n",
    "print(r)\n",
    "\n",
    "\n",
    "\n"
   ]
  },
  {
   "cell_type": "code",
   "execution_count": 12,
   "metadata": {},
   "outputs": [
    {
     "name": "stdout",
     "output_type": "stream",
     "text": [
      "[4, 5, 1, 9, 5, 0, 0, 0]\n"
     ]
    }
   ],
   "source": [
    "#Empty choclate\n",
    "list=[4,5,0,1,9,0,5,0]\n",
    "i=0\n",
    "j=0\n",
    "n=len(list)\n",
    "for i in range(0,n):\n",
    "    if list[i]!=0:\n",
    "        list[j]=list[i]\n",
    "        j=j+1\n",
    "while j<n:\n",
    "    list[j]=0\n",
    "    j=j+1\n",
    "print(list)\n"
   ]
  },
  {
   "cell_type": "code",
   "execution_count": 13,
   "metadata": {},
   "outputs": [
    {
     "name": "stdout",
     "output_type": "stream",
     "text": [
      "[0, 0, 0, 1, 1, 1, 2]\n"
     ]
    }
   ],
   "source": [
    "# Empty chocolate starting with zero\n",
    "n=[1,2,0,1,0,0,1]\n",
    "x=0\n",
    "y=0\n",
    "z=0\n",
    "for i in n:\n",
    "    if i==0:\n",
    "        x+=1\n",
    "    if i==1:\n",
    "        y+=1\n",
    "    if i==2:\n",
    "        z+=1\n",
    "n[:]=[0]*x+[1]*y+[2]*z\n",
    "print(n)\n"
   ]
  },
  {
   "cell_type": "code",
   "execution_count": 14,
   "metadata": {},
   "outputs": [
    {
     "name": "stdout",
     "output_type": "stream",
     "text": [
      "Employee details: Ajay RTS 1001\n",
      "Employee details: Arun RTS 1003\n"
     ]
    }
   ],
   "source": [
    "#Simple inheritence\n",
    "class employee:\n",
    "    def __init__(self,name,dprt,e_id):\n",
    "        self.name=name\n",
    "        self.dprt=dprt\n",
    "        self.e_id=e_id\n",
    "    def print_info(self):\n",
    "        print(\"Employee details:\",self.name,self.dprt,self.e_id)\n",
    "obj = employee(\"Ajay\",\"RTS\",1001)\n",
    "obj.print_info()\n",
    "\n",
    "class rts(employee):\n",
    "    pass\n",
    "obj1 = rts(\"Arun\",\"RTS\",1003)\n",
    "obj1.print_info()\n"
   ]
  },
  {
   "cell_type": "code",
   "execution_count": 15,
   "metadata": {},
   "outputs": [
    {
     "name": "stdout",
     "output_type": "stream",
     "text": [
      "Employee details: Ajay RTS 1001\n",
      "Employee details: Arun RTS 1003\n",
      "Employee details: Amar Indu 1004\n"
     ]
    }
   ],
   "source": [
    "#Hierarchial inheritance\n",
    "class employee:\n",
    "    def __init__(self,name,dprt,e_id):\n",
    "        self.name=name\n",
    "        self.dprt=dprt\n",
    "        self.e_id=e_id\n",
    "    def print_info(self):\n",
    "        print(\"Employee details:\",self.name,self.dprt,self.e_id)\n",
    "obj = employee(\"Ajay\",\"RTS\",1001)\n",
    "obj.print_info()\n",
    "\n",
    "class rts(employee):\n",
    "    pass\n",
    "obj1 = rts(\"Arun\",\"RTS\",1003)\n",
    "obj1.print_info()\n",
    "\n",
    "class Indu(employee):\n",
    "    pass\n",
    "obj1 = rts(\"Amar\",\"Indu\",1004)\n",
    "obj1.print_info()\n"
   ]
  },
  {
   "cell_type": "code",
   "execution_count": 16,
   "metadata": {},
   "outputs": [
    {
     "name": "stdout",
     "output_type": "stream",
     "text": [
      "Manager is the main employee of company\n",
      "Employee details: Ajay RTS 1001\n",
      "Employee details: Arun RTS 1003\n"
     ]
    }
   ],
   "source": [
    "#Multilevel inheritance\n",
    "\n",
    "class manager:\n",
    "    print(\"Manager is the main employee of company\")\n",
    "\n",
    "class employee:\n",
    "    def __init__(self,name,dprt,e_id):\n",
    "        self.name=name\n",
    "        self.dprt=dprt\n",
    "        self.e_id=e_id\n",
    "    def print_info(self):\n",
    "        print(\"Employee details:\",self.name,self.dprt,self.e_id)\n",
    "obj = employee(\"Ajay\",\"RTS\",1001)\n",
    "obj.print_info()\n",
    "\n",
    "class rts(manager,employee):\n",
    "    pass\n",
    "obj1 = rts(\"Arun\",\"RTS\",1003)\n",
    "obj1.print_info()\n"
   ]
  },
  {
   "cell_type": "code",
   "execution_count": 17,
   "metadata": {},
   "outputs": [
    {
     "name": "stdout",
     "output_type": "stream",
     "text": [
      "Manager is the main employee of company\n",
      "Employee details: Ajay RTS 1001\n",
      "Employee details: Arun RTS 1003\n"
     ]
    }
   ],
   "source": [
    "#Multiple inheritance\n",
    "\n",
    "class manager:\n",
    "    print(\"Manager is the main employee of company\")\n",
    "\n",
    "class employee(manager):\n",
    "    def __init__(self,name,dprt,e_id):\n",
    "        self.name=name\n",
    "        self.dprt=dprt\n",
    "        self.e_id=e_id\n",
    "    def print_info(self):\n",
    "        print(\"Employee details:\",self.name,self.dprt,self.e_id)\n",
    "obj = employee(\"Ajay\",\"RTS\",1001)\n",
    "obj.print_info()\n",
    "\n",
    "class rts(employee):\n",
    "    pass\n",
    "obj1 = rts(\"Arun\",\"RTS\",1003)\n",
    "obj1.print_info()\n"
   ]
  },
  {
   "cell_type": "code",
   "execution_count": 18,
   "metadata": {},
   "outputs": [
    {
     "name": "stdout",
     "output_type": "stream",
     "text": [
      "6\n"
     ]
    }
   ],
   "source": [
    "#Jailer\n",
    "c=10\n",
    "p=6\n",
    "s=int(input(\"Enter the place of starting person: \"))\n",
    "L=(c+s-1)%p\n",
    "if L==0:\n",
    "    L=p\n",
    "print(L)\n"
   ]
  },
  {
   "cell_type": "code",
   "execution_count": 19,
   "metadata": {},
   "outputs": [
    {
     "name": "stdout",
     "output_type": "stream",
     "text": [
      "----------Welcom to Registration---------------\n",
      "----------Welcome to Login-----------------------\n",
      "invalid username or password\n",
      "----------Welcome to Login-----------------------\n",
      "user not found\n"
     ]
    }
   ],
   "source": [
    "#login system\n",
    "\n",
    "def registration():\n",
    "    database = {}\n",
    "    print(\"----------Welcom to Registration---------------\")\n",
    "    u_name=input(\"Enter the your username: \")\n",
    "    age=int(input(\"Enter your age:\"))\n",
    "    u_pwd=input(\"Enter your password: \")\n",
    "    database[u_name] = u_pwd\n",
    "    while True:\n",
    "        print(\"----------Welcome to Login-----------------------\")\n",
    "        l_name=input(\"Enter the your user name: \")\n",
    "        l_pwd=input(\"Enter your user password: \")\n",
    "        if l_name in database:\n",
    "            if database[u_name]==l_pwd:\n",
    "                print(\"Login successfull\")\n",
    "                break\n",
    "            else:\n",
    "                print(\"invalid username or password\")\n",
    "        else:\n",
    "            print(\"user not found\")\n",
    "            break\n",
    "registration()\n",
    "\n",
    "\n",
    "\n",
    " "
   ]
  },
  {
   "cell_type": "code",
   "execution_count": 20,
   "metadata": {},
   "outputs": [
    {
     "name": "stdout",
     "output_type": "stream",
     "text": [
      "10\n"
     ]
    }
   ],
   "source": [
    "#overloading\n",
    "class check:\n",
    "\n",
    "    def add(self,a):\n",
    "        print(a)\n",
    "    def add(self,a,b,):\n",
    "        print(a+b)\n",
    "    def add(self,a,b,c):\n",
    "        print(a+b+c)\n",
    "obj=check()\n",
    "'''obj.add(5)\n",
    "obj.add(2,5)'''\n",
    "obj.add(2,3,5)\n"
   ]
  },
  {
   "cell_type": "code",
   "execution_count": 22,
   "metadata": {},
   "outputs": [
    {
     "name": "stdout",
     "output_type": "stream",
     "text": [
      "Some of Arithmetics are like addition,substraction,multiplication,division\n",
      "The sum of two numbers:\n",
      "15\n",
      "The product of sum of two numbers and d:\n",
      "75\n"
     ]
    }
   ],
   "source": [
    "class arithmetic:\n",
    "\n",
    "    def __init__(self):\n",
    "        print(\"Some of Arithmetics are like addition,substraction,multiplication,division\")\n",
    "\n",
    "    def add(self):\n",
    "        print(\"The sum of two numbers:\")\n",
    "        a=10\n",
    "        b=5\n",
    "        self.c=a+b\n",
    "        print(self.c)\n",
    "        \n",
    "    def multiplication(self,d):\n",
    "        print(\"The product of sum of two numbers and d:\")\n",
    "        print(self.c*d)\n",
    "\n",
    "a=arithmetic()    \n",
    "a.add()\n",
    "a.multiplication(5)\n"
   ]
  },
  {
   "cell_type": "code",
   "execution_count": 23,
   "metadata": {},
   "outputs": [
    {
     "name": "stdout",
     "output_type": "stream",
     "text": [
      "* * * * \n",
      "* * * * \n",
      "* * * * \n",
      "* * * * \n"
     ]
    }
   ],
   "source": [
    "#pattern\n",
    "r=int(input(\"Enter number of rows : \"))\n",
    "c=int(input(\"Enter number of columns : \"))\n",
    "for i in range(r):\n",
    "    for j in range(c):\n",
    "        print(\"*\",end=\" \")\n",
    "    print()\n",
    "\n"
   ]
  },
  {
   "cell_type": "code",
   "execution_count": 24,
   "metadata": {},
   "outputs": [
    {
     "name": "stdout",
     "output_type": "stream",
     "text": [
      "16\n"
     ]
    }
   ],
   "source": [
    "#recursion\n",
    "def power(a,b):\n",
    "    if b==0:\n",
    "        return 1\n",
    "    else:\n",
    "        return a*pow(a,b-1)\n",
    "print(power(2,4))\n"
   ]
  },
  {
   "cell_type": "code",
   "execution_count": 25,
   "metadata": {},
   "outputs": [
    {
     "name": "stdout",
     "output_type": "stream",
     "text": [
      "9\n"
     ]
    }
   ],
   "source": [
    "#sum of digits\n",
    "\n",
    "def sum(n):\n",
    "    if n==0:\n",
    "        return 0\n",
    "    else:   \n",
    "        return n%10+sum(n//10)\n",
    "print(sum(153))\n"
   ]
  }
 ],
 "metadata": {
  "kernelspec": {
   "display_name": "Python 3",
   "language": "python",
   "name": "python3"
  },
  "language_info": {
   "codemirror_mode": {
    "name": "ipython",
    "version": 3
   },
   "file_extension": ".py",
   "mimetype": "text/x-python",
   "name": "python",
   "nbconvert_exporter": "python",
   "pygments_lexer": "ipython3",
   "version": "3.12.3"
  }
 },
 "nbformat": 4,
 "nbformat_minor": 2
}
