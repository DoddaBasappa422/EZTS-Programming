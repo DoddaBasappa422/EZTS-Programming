{
 "cells": [
  {
   "cell_type": "code",
   "execution_count": 2,
   "metadata": {},
   "outputs": [
    {
     "name": "stdout",
     "output_type": "stream",
     "text": [
      "\n",
      "Student Details:\n",
      "Name: dodda basappa\n",
      "USN: 3br21cs038\n",
      "Percentage: 134.6\n",
      "Grade: A+\n",
      "\n",
      "Name: 6\n",
      "USN: 76\n",
      "Percentage: 55.0\n",
      "Grade: C\n",
      "\n",
      "Name: 5656\n",
      "USN: 56\n",
      "Percentage: 45.0\n",
      "Grade: D\n",
      "\n",
      "Name: 45\n",
      "USN: 45\n",
      "Percentage: 140.4\n",
      "Grade: A+\n",
      "\n",
      "Name: 5\n",
      "USN: 45\n",
      "Percentage: 37.8\n",
      "Grade: E\n",
      "\n"
     ]
    }
   ],
   "source": [
    "\n",
    "\n",
    "\n",
    "#create a student class that holds the details of students like \n",
    "# name,USN and the marks in 5 subjects percentage and grade\n",
    "#create 5 student object and get the data for name,usn and marks after that \n",
    "# find the percentage and grade and store it to the class object.\n",
    "\n",
    "\n",
    "\n",
    "\n",
    "class Student:\n",
    "    \n",
    "    def __init__(self, name, usn):\n",
    "        self.name = name\n",
    "        self.usn = usn\n",
    "        self.marks_list = []\n",
    "\n",
    "    def marks(self):\n",
    "        total_marks = 0\n",
    "        for i in range(5):\n",
    "            mark = float(input(\"Enter marks for subject {}: \".format(i+1)))\n",
    "            self.marks_list.append(mark)\n",
    "            total_marks += mark\n",
    "        self.percentage = (total_marks / 5)\n",
    "\n",
    "        if self.percentage >= 90:\n",
    "            self.grade = 'A+'\n",
    "        elif self.percentage >= 80:\n",
    "            self.grade = 'A'\n",
    "        elif self.percentage >= 70:\n",
    "            self.grade = 'B+'\n",
    "        elif self.percentage >= 60:\n",
    "            self.grade = 'B'\n",
    "        elif self.percentage >= 50:\n",
    "            self.grade = 'C'\n",
    "        elif self.percentage >= 40:\n",
    "            self.grade = 'D'\n",
    "        elif self.percentage >= 33:\n",
    "            self.grade = 'E'\n",
    "        else:\n",
    "            self.grade = 'F'\n",
    "\n",
    "    def details(self):\n",
    "        print(\"Name:\", self.name)\n",
    "        print(\"USN:\", self.usn)\n",
    "        print(\"Percentage:\", self.percentage)\n",
    "        print(\"Grade:\", self.grade)\n",
    "\n",
    "students = []\n",
    "for i in range(5):\n",
    "    name = input(\"Enter name of student {} : \".format(i+1))\n",
    "    usn = input(\"Enter USN of student {}: \".format(i+1))\n",
    "    student = Student(name, usn)\n",
    "    student.marks()\n",
    "    students.append(student)\n",
    "\n",
    "print(\"\\nStudent Details:\")\n",
    "for student in students:\n",
    "    student.details()\n",
    "    print()\n",
    "\n",
    "\n",
    "\n",
    "\n",
    "\n",
    "\n"
   ]
  },
  {
   "cell_type": "code",
   "execution_count": 1,
   "metadata": {},
   "outputs": [
    {
     "name": "stdout",
     "output_type": "stream",
     "text": [
      "2\n",
      "3\n"
     ]
    }
   ],
   "source": [
    "class A:\n",
    "    def __init__(self,a,b):\n",
    "        self.a=a\n",
    "        self.__b=b\n",
    "    def PrintB(self):\n",
    "        print(self.__b)\n",
    "\n",
    "obj1=A(2,3)\n",
    "print(obj1.a)\n",
    "obj1.PrintB()\n"
   ]
  },
  {
   "cell_type": "code",
   "execution_count": 3,
   "metadata": {},
   "outputs": [
    {
     "name": "stdout",
     "output_type": "stream",
     "text": [
      "20\n"
     ]
    }
   ],
   "source": [
    "def Choco(c,N):\n",
    "    A=0\n",
    "    count=0\n",
    "    for jar in c:\n",
    "        count=jar//3\n",
    "        rem=jar%3\n",
    "        A+=count\n",
    "        if rem>0:\n",
    "            A+=1\n",
    "    return A\n",
    "\n",
    "\n",
    "\n",
    "N=int(input(\"Enter the number of jars:\"))\n",
    "c=[]\n",
    "for i in range(N):\n",
    "    ch=int(input(\"Enter the number of chocolates in Jar : \"))\n",
    "    c.append(ch)\n",
    "print(Choco(c,N))\n",
    "\n"
   ]
  },
  {
   "cell_type": "code",
   "execution_count": 4,
   "metadata": {},
   "outputs": [
    {
     "name": "stdout",
     "output_type": "stream",
     "text": [
      "Ajay 18 M\n"
     ]
    }
   ],
   "source": [
    "class student:\n",
    "    def __init__(self,name,age,gender):#__(double underscore defines that the function is private )\n",
    "        self.name=name\n",
    "        self.age=age\n",
    "        self.gender=gender\n",
    "\n",
    "\n",
    "\n",
    "st1=student(\"Ajay\",18,\"M\")\n",
    "print(st1.name,st1.age,st1.gender)\n"
   ]
  },
  {
   "cell_type": "code",
   "execution_count": 5,
   "metadata": {},
   "outputs": [
    {
     "name": "stdout",
     "output_type": "stream",
     "text": [
      "ajay 18 M\n"
     ]
    }
   ],
   "source": [
    "class student:\n",
    "    def __init__(self):#__(double underscore defines that the function is private )\n",
    "        self.name=None\n",
    "        self.age=None\n",
    "        self.gender=None\n",
    "\n",
    "\n",
    "\n",
    "st1=student()\n",
    "st1.name=input(\"Enter the name of the student:\")\n",
    "st1.age=input(\"Enter the age of the student:\")\n",
    "st1.gender=input(\"Enter the gender of the student:\")\n",
    "print(st1.name,st1.age,st1.gender)\n"
   ]
  },
  {
   "cell_type": "code",
   "execution_count": 6,
   "metadata": {},
   "outputs": [
    {
     "name": "stdout",
     "output_type": "stream",
     "text": [
      "ayan 30 M\n",
      "<class '__main__.student'>\n"
     ]
    }
   ],
   "source": [
    "class student:\n",
    "    def __init__(self,name,age,gender):#__(double underscore defines that the function is private )\n",
    "        self.name=name\n",
    "        self.age=age\n",
    "        self.gender=gender\n",
    "\n",
    "a=input(\"Enter the name of the student:\")  # a,b,c are the formal values\n",
    "b=input(\"Enter the age of the student:\")   # where self.name,self.age,self.gender are actual values\n",
    "c=input(\"Enter the gender of the student:\")\n",
    "st1=student(a,b,c)\n",
    "print(st1.name,st1.age,st1.gender)\n",
    "print(type(st1))\n"
   ]
  },
  {
   "cell_type": "code",
   "execution_count": 7,
   "metadata": {},
   "outputs": [
    {
     "name": "stdout",
     "output_type": "stream",
     "text": [
      "<class '__main__.Std'>\n",
      "Name:  ajay\n",
      "USN :  we3rd\n",
      "Marks in Five Subject are :\n",
      "Subject 1 = 56\n",
      "Subject 2 = 56\n",
      "Subject 3 = 45\n",
      "Subject 4 = 65\n",
      "Subject 5 = 65\n",
      "Percentage :  57.4\n",
      "Grade :  C\n",
      "we3rd|ajay|56,56,45,65,65|57.4|C\n",
      "\n",
      "['we3rd', 'ajay', ['56', '56', '45', '65', '65'], '57.4', 'C\\n']\n",
      "Name:  ajay\n",
      "USN :  we3rd\n",
      "Marks in Five Subject are :\n",
      "Subject 1 = 56\n",
      "Subject 2 = 56\n",
      "Subject 3 = 45\n",
      "Subject 4 = 65\n",
      "Subject 5 = 65\n",
      "Percentage :  57.4\n",
      "Grade :  C\n",
      "\n"
     ]
    }
   ],
   "source": [
    "class Std:\n",
    "    def __init__(self): \n",
    "        self.__USN = None\n",
    "        self.__Name = None\n",
    "        self.__Marks = []\n",
    "        self.__Percentage = None\n",
    "        self.__Grade = None\n",
    "\n",
    "    def Std_Input(self):\n",
    "        self.__Name = input(\"Enter your Name: \")\n",
    "        self.__USN = input(\"Enter Your USN: \")\n",
    "        for i in range (0,5):\n",
    "            marks = input(f\"Enter Your Marks in Sub{i+1} : \")\n",
    "            self.__Marks.append(marks)\n",
    "\n",
    "    def calc_percentage (self):\n",
    "        sum = 0\n",
    "        for i in self.__Marks:\n",
    "            sum = sum + int(i)\n",
    "        self.__Percentage = (sum/500)*100\n",
    "\n",
    "    def calc_Grade(self):\n",
    "        per = float(self.__Percentage)\n",
    "        if per<=100 and per >=80:\n",
    "            self.__Grade = \"A\"\n",
    "        elif per<80 and per >=60:\n",
    "            self.__Grade = \"B\"\n",
    "        elif per<60 and per >=40:\n",
    "            self.__Grade = \"C\"\n",
    "        elif per<40 and per >=0:\n",
    "            self.__Grade = \"D\"\n",
    "        else: \n",
    "            self.__Grade = \"Inavlid\"\n",
    "\n",
    "    def print_details(self):\n",
    "        print(\"Name: \",self.__Name)\n",
    "        print(\"USN : \",self.__USN)\n",
    "        print(\"Marks in Five Subject are :\")\n",
    "        for i in range(0,5):\n",
    "            print(f\"Subject {i+1} = {self.__Marks[i]}\")\n",
    "        print(\"Percentage : \", self.__Percentage)\n",
    "        print(\"Grade : \", self.__Grade)\n",
    "\n",
    "    def convert_list(self):\n",
    "        st_list = [self.__USN,self.__Name,self.__Marks,self.__Percentage,self.__Grade]\n",
    "        return st_list\n",
    "\n",
    "    def covert_ob(self,stu_list):\n",
    "        self.__USN = stu_list[0]\n",
    "        self.__Name = stu_list[1]\n",
    "        self.__Marks = stu_list[2]\n",
    "        self.__Percentage = stu_list[3]\n",
    "        self.__Grade = stu_list[4]\n",
    "\n",
    "\n",
    "\n",
    "st1 = Std()\n",
    "\n",
    "print(type(st1))\n",
    "\n",
    "st1.Std_Input()\n",
    "\n",
    "st1.calc_percentage()\n",
    "st1.calc_Grade()\n",
    "\n",
    "st1.print_details()\n",
    "\n",
    "with open(\"student.txt\",'wb') as File:\n",
    "    L=st1.convert_list()\n",
    "    data = f\"{L[0]}|{L[1]}|{L[2][0]},{L[2][1]},{L[2][2]},{L[2][3]},{L[2][4]}|{L[3]}|{L[4]}\\n\"\n",
    "    File.write(data.encode())\n",
    "    File.close()\n",
    "\n",
    "\n",
    "stu_list=[]\n",
    "\n",
    "with open(\"student.txt\",'rb') as File:\n",
    "    data = File.readline().decode('utf-8')\n",
    "    print(data)\n",
    "    for i in data.split(\"|\"):\n",
    "        stu_list.append(i)\n",
    "    mrks=stu_list[2]\n",
    "    mrks_list = []\n",
    "    for i in mrks.split(','):\n",
    "        mrks_list.append(i)\n",
    "    stu_list[2]=mrks_list\n",
    "\n",
    "\n",
    "print(stu_list)\n",
    "st2=Std()\n",
    "st2.covert_ob(stu_list)\n",
    "st2.print_details()\n",
    "\n"
   ]
  },
  {
   "cell_type": "code",
   "execution_count": null,
   "metadata": {},
   "outputs": [],
   "source": []
  }
 ],
 "metadata": {
  "kernelspec": {
   "display_name": "Python 3",
   "language": "python",
   "name": "python3"
  },
  "language_info": {
   "codemirror_mode": {
    "name": "ipython",
    "version": 3
   },
   "file_extension": ".py",
   "mimetype": "text/x-python",
   "name": "python",
   "nbconvert_exporter": "python",
   "pygments_lexer": "ipython3",
   "version": "3.12.3"
  }
 },
 "nbformat": 4,
 "nbformat_minor": 2
}
