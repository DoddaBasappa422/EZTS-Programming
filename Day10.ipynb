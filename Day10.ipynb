{
 "cells": [
  {
   "cell_type": "code",
   "execution_count": 40,
   "metadata": {},
   "outputs": [
    {
     "name": "stdout",
     "output_type": "stream",
     "text": [
      "{0: 5.0, 1: 3.33, 2: 3.0, 3: 1.75, 4: 8.0, 5: 3.0, 6: 2.0}\n",
      "Maximum weight= 15\n",
      "Maximum profit= 51\n"
     ]
    }
   ],
   "source": [
    "#Greedy Method - knapsak Method\n",
    "\n",
    "profit=[5,10,15,7,8,9,4]\n",
    "weight=[1,3,5,4,1,3,2]\n",
    "x=[]*len(profit)\n",
    "cap=15\n",
    "max_w=0\n",
    "max_p=0\n",
    "d={}\n",
    "for i in range (len(profit)):\n",
    "    d[i]= float('{:.2f}'.format((profit[i]/weight[i])))\n",
    "print(d)\n",
    "for i in range(len(profit)):\n",
    "    j=(max(d, key= lambda x: d[x]))\n",
    "    max_w=max_w+weight[j]\n",
    "    max_p=max_p+profit[j]\n",
    "    if cap==max_w:\n",
    "        break\n",
    "    d[j]=0\n",
    "\n",
    "print(\"Maximum weight=\",max_w)\n",
    "print(\"Maximum profit=\",max_p)\n",
    "\n",
    "\n",
    "\n",
    "\n",
    "\n"
   ]
  },
  {
   "cell_type": "code",
   "execution_count": null,
   "metadata": {},
   "outputs": [],
   "source": []
  }
 ],
 "metadata": {
  "kernelspec": {
   "display_name": "Python 3",
   "language": "python",
   "name": "python3"
  },
  "language_info": {
   "codemirror_mode": {
    "name": "ipython",
    "version": 3
   },
   "file_extension": ".py",
   "mimetype": "text/x-python",
   "name": "python",
   "nbconvert_exporter": "python",
   "pygments_lexer": "ipython3",
   "version": "3.12.3"
  }
 },
 "nbformat": 4,
 "nbformat_minor": 2
}
