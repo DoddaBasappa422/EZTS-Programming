{
 "cells": [
  {
   "cell_type": "code",
   "execution_count": 11,
   "metadata": {},
   "outputs": [
    {
     "name": "stdout",
     "output_type": "stream",
     "text": [
      "14\n",
      "[[0, 0], [0, 1], [1, 1], [1, 2], [1, 3], [2, 3], [3, 3]]\n"
     ]
    }
   ],
   "source": [
    "road=[[1,2,2,3],[3,1,4,2],[1,5,3,3],[1,2,1,1]]\n",
    "n=len(road)-1\n",
    "m=len(road[0])-1\n",
    "i,j=0,0\n",
    "root=[[0,0]]\n",
    "sum=road[i][j]\n",
    "while (i<n or j<m): \n",
    "    if i==n:\n",
    "        j+=1\n",
    "    elif j==m:\n",
    "        i+=1\n",
    "    elif road[i][j+1]<road[i+1][j]:\n",
    "        j=j+1\n",
    "    else:\n",
    "        i=i+1\n",
    "    sum+=road[i][j]\n",
    "    root.append([i,j])\n",
    "print(sum)\n",
    "print(root)\n",
    "\n",
    "\n"
   ]
  },
  {
   "cell_type": "code",
   "execution_count": 7,
   "metadata": {},
   "outputs": [
    {
     "name": "stdout",
     "output_type": "stream",
     "text": [
      "[[1, 3, 5, 8], [4, 1, 4, 2], [5, 5, 3, 3], [6, 2, 1, 1]]\n",
      "[[1, 3, 5, 8], [4, 4, 8, 10], [5, 9, 11, 13], [6, 8, 9, 10]]\n",
      "10\n"
     ]
    }
   ],
   "source": [
    "dp=[\n",
    "    [1,2,2,3],\n",
    "    [3,1,4,2],\n",
    "    [1,5,3,3],\n",
    "    [1,2,1,1]\n",
    "    ]\n",
    "n=len(dp)-1\n",
    "m=len(dp[0])-1\n",
    "i,j=0,0\n",
    "for i in range(n):\n",
    "    dp[i+1][j]+=dp[i][j]\n",
    "i=0\n",
    "for j in range(m): \n",
    "    dp[i][j+1]+=dp[i][j]\n",
    "print(dp)\n",
    "i=1\n",
    "j=1\n",
    "for i in range(1,n+1):\n",
    "    for j in range(1,m+1):\n",
    "        if dp[i-1][j]<dp[i][j-1]:\n",
    "            dp[i][j]+=dp[i-1][j]\n",
    "        else:\n",
    "            dp[i][j]+=dp[i][j-1]           \n",
    "print(dp)\n",
    "print(dp[n][m])\n",
    "\n"
   ]
  },
  {
   "cell_type": "code",
   "execution_count": null,
   "metadata": {},
   "outputs": [],
   "source": []
  }
 ],
 "metadata": {
  "kernelspec": {
   "display_name": "Python 3",
   "language": "python",
   "name": "python3"
  },
  "language_info": {
   "codemirror_mode": {
    "name": "ipython",
    "version": 3
   },
   "file_extension": ".py",
   "mimetype": "text/x-python",
   "name": "python",
   "nbconvert_exporter": "python",
   "pygments_lexer": "ipython3",
   "version": "3.12.3"
  }
 },
 "nbformat": 4,
 "nbformat_minor": 2
}
