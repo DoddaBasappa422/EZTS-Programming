{
 "cells": [
  {
   "cell_type": "code",
   "execution_count": 1,
   "metadata": {},
   "outputs": [
    {
     "name": "stdout",
     "output_type": "stream",
     "text": [
      "The message is prime number\n"
     ]
    }
   ],
   "source": [
    "m=(int(input(\"Enter the message: \")))\n",
    "flag=0\n",
    "for i in range(2,(m//2)+1):\n",
    "    if m%i==0:\n",
    "        flag=1\n",
    "        break\n",
    "if flag==0:\n",
    "    print(\"The message is prime number\")\n",
    "else:\n",
    "    print(\"The message is not prime number\") \n"
   ]
  },
  {
   "cell_type": "code",
   "execution_count": 2,
   "metadata": {},
   "outputs": [
    {
     "name": "stdout",
     "output_type": "stream",
     "text": [
      "0\n",
      "1\n",
      "1\n",
      "2\n",
      "3\n"
     ]
    }
   ],
   "source": [
    "#Fibonacci\n",
    "n=int(input(\"Enter the number of terms: \"))\n",
    "a=0\n",
    "b=1\n",
    "c=a+b\n",
    "if n==1:\n",
    "    print(a)\n",
    "elif n==2:\n",
    "    print(a)\n",
    "    print(b)\n",
    "else:\n",
    "    print(a)\n",
    "    print(b)\n",
    "    for i in range(2,n):\n",
    "        print(c)\n",
    "        a=b\n",
    "        b=c\n",
    "        c=a+b\n",
    "        "
   ]
  },
  {
   "cell_type": "code",
   "execution_count": 3,
   "metadata": {},
   "outputs": [
    {
     "name": "stdout",
     "output_type": "stream",
     "text": [
      "0 1 1 2 3 "
     ]
    }
   ],
   "source": [
    "#fibonacci using function\n",
    "def fib(n):\n",
    "    if n<=1:\n",
    "        return n\n",
    "    else:\n",
    "        return fib(n-1)+fib(n-2)\n",
    "        \n",
    "n=int(input(\"enter number of terms: \"))\n",
    "for i in range(n):\n",
    "    print(fib(i),end=\" \")\n",
    "    "
   ]
  },
  {
   "cell_type": "code",
   "execution_count": 5,
   "metadata": {},
   "outputs": [
    {
     "name": "stdout",
     "output_type": "stream",
     "text": [
      "120\n"
     ]
    }
   ],
   "source": [
    "#factorial\n",
    "def fact(n):\n",
    "    if n==1 or n==2:\n",
    "        return n\n",
    "    else:\n",
    "        return n*fact(n-1)\n",
    "n=int(input(\"Enter the number:\" ))\n",
    "print(fact(n))\n",
    "\n"
   ]
  },
  {
   "cell_type": "code",
   "execution_count": 6,
   "metadata": {},
   "outputs": [
    {
     "name": "stdout",
     "output_type": "stream",
     "text": [
      "(47, 135, False)\n"
     ]
    }
   ],
   "source": [
    "def check_prime(m):  #function to find prime number\n",
    "    flag=0\n",
    "    if m<1:\n",
    "        flag=1\n",
    "    elif m==1:\n",
    "        flag=0\n",
    "    else:\n",
    "        for i in range(2,(m//2)+1):\n",
    "            if m%i==0:\n",
    "                flag=1\n",
    "                break\n",
    "    if flag==0:\n",
    "        return 1 # prime number\n",
    "    else:\n",
    "        return 0 #not a prime number\n",
    "    \n",
    "t=[] \n",
    "n=int(input(\"Enter the number : \"))   #input the number\n",
    "p=n+1\n",
    "flag=0\n",
    "while flag<1:\n",
    "    flag=check_prime(p)\n",
    "    if flag==1:\n",
    "        t.append(p)\n",
    "    else:\n",
    "        p=p+1 \n",
    "\n",
    "sum=0\n",
    "for i in range(n+1,p):\n",
    "    sum+=i\n",
    "t.append(sum)\n",
    "\n",
    "\n",
    "p1=p\n",
    "flag=0\n",
    "p=p1+1\n",
    "while flag<1:\n",
    "    flag=check_prime(p)\n",
    "    if flag==1:\n",
    "        p2=p\n",
    "    else:\n",
    "        p+=1 \n",
    "\n",
    "        \n",
    "p=p1*p2\n",
    "flag=check_prime(p)\n",
    "if flag ==0:\n",
    "    t.append(False)\n",
    "else:\n",
    "    t.append(True)\n",
    "Prime_key=tuple(t)\n",
    "print(Prime_key)\n",
    "\n"
   ]
  },
  {
   "cell_type": "code",
   "execution_count": null,
   "metadata": {},
   "outputs": [],
   "source": []
  }
 ],
 "metadata": {
  "kernelspec": {
   "display_name": "Python 3",
   "language": "python",
   "name": "python3"
  },
  "language_info": {
   "codemirror_mode": {
    "name": "ipython",
    "version": 3
   },
   "file_extension": ".py",
   "mimetype": "text/x-python",
   "name": "python",
   "nbconvert_exporter": "python",
   "pygments_lexer": "ipython3",
   "version": "3.12.3"
  }
 },
 "nbformat": 4,
 "nbformat_minor": 2
}
