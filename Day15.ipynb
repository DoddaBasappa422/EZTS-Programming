{
 "cells": [
  {
   "cell_type": "markdown",
   "metadata": {},
   "source": [
    "Double Hashing "
   ]
  },
  {
   "cell_type": "code",
   "execution_count": 7,
   "metadata": {},
   "outputs": [
    {
     "name": "stdout",
     "output_type": "stream",
     "text": [
      "Index 0: 39\n",
      "Index 1: 34\n",
      "Index 2: 46\n",
      "Index 3: 37\n",
      "Index 4: 70\n",
      "Index 5: 104\n",
      "Index 6: 81\n",
      "Index 7: 45\n",
      "Index 8: 56\n",
      "Index 9: 20\n",
      "Index 10: None\n",
      "Key 45 found at index 7\n"
     ]
    }
   ],
   "source": [
    "class DoubleHashingHashTable:\n",
    "    def __init__(self, table_size):\n",
    "        self.table_size = table_size\n",
    "        self.table = [None] * table_size\n",
    "\n",
    "    def hash1(self, key):\n",
    "        return key % self.table_size\n",
    "\n",
    "    def hash2(self, key):\n",
    "        return 1 + (key % (self.table_size - 1))\n",
    "\n",
    "    def insert(self, key):\n",
    "        index = self.hash1(key)\n",
    "        if self.table[index] is None:\n",
    "            self.table[index] = key\n",
    "        else:\n",
    "            # Collision occurred, use double hashing\n",
    "            i = 1\n",
    "            new_index = (index + i * self.hash2(key)) % self.table_size\n",
    "            while self.table[new_index] is not None and i < self.table_size:\n",
    "                i += 1\n",
    "                new_index = (index + i * self.hash2(key)) % self.table_size\n",
    "            if i < self.table_size:\n",
    "                self.table[new_index] = key\n",
    "            else:\n",
    "                print(\"Hash table is full\")\n",
    "\n",
    "    def search(self, key):\n",
    "        index = self.hash1(key)\n",
    "        if self.table[index] == key:\n",
    "            return index\n",
    "        else:\n",
    "            i = 1\n",
    "            new_index = (index + i * self.hash2(key)) % self.table_size\n",
    "            while self.table[new_index] != key and i < self.table_size:\n",
    "                i += 1\n",
    "                new_index = (index + i * self.hash2(key)) % self.table_size\n",
    "            if self.table[new_index] == key:\n",
    "                return new_index\n",
    "            else:\n",
    "                return -1  # Key not found\n",
    "\n",
    "    def display(self):\n",
    "        for i, val in enumerate(self.table):\n",
    "            print(f\"Index {i}: {val}\")\n",
    "\n",
    "# Example usage\n",
    "l = [20, 34, 45, 70, 56, 81, 104, 37, 46, 39]\n",
    "hash_table_size = 11\n",
    "hash_table = DoubleHashingHashTable(hash_table_size)\n",
    "\n",
    "for num in l:\n",
    "    hash_table.insert(num)\n",
    "\n",
    "hash_table.display()\n",
    "\n",
    "# Search for a key\n",
    "key_to_search = 45\n",
    "index = hash_table.search(key_to_search)\n",
    "if index != -1:\n",
    "    print(f\"Key {key_to_search} found at index {index}\")\n",
    "else:\n",
    "    print(f\"Key {key_to_search} not found in the hash table\")\n"
   ]
  },
  {
   "cell_type": "markdown",
   "metadata": {},
   "source": [
    "Bit Manipulation"
   ]
  },
  {
   "cell_type": "code",
   "execution_count": 6,
   "metadata": {},
   "outputs": [
    {
     "name": "stdout",
     "output_type": "stream",
     "text": [
      "4\n",
      "5\n",
      "1\n",
      "-5\n",
      "10\n",
      "2\n"
     ]
    }
   ],
   "source": [
    "#Bit manipulation\n",
    "a=4\n",
    "b=5\n",
    "print(a&b)\n",
    "print(a|b)\n",
    "print(a^b)\n",
    "print(~a)\n",
    "print(b<<1)\n",
    "print(a>>1)\n"
   ]
  },
  {
   "cell_type": "markdown",
   "metadata": {},
   "source": [
    "N Queens Problem"
   ]
  },
  {
   "cell_type": "code",
   "execution_count": 12,
   "metadata": {},
   "outputs": [
    {
     "name": "stdout",
     "output_type": "stream",
     "text": [
      "Number of solutions for 5-queens problem: 10\n"
     ]
    }
   ],
   "source": [
    "#N Queens problem\n",
    "def is_safe(board, row, col, n):\n",
    "    # Check this row on left side\n",
    "    for i in range(col):\n",
    "        if board[row][i] == 1:\n",
    "            return False\n",
    "\n",
    "    # Check upper diagonal on left side\n",
    "    for i, j in zip(range(row, -1, -1), range(col, -1, -1)):\n",
    "        if board[i][j] == 1:\n",
    "            return False\n",
    "\n",
    "    # Check lower diagonal on left side\n",
    "    for i, j in zip(range(row, n, 1), range(col, -1, -1)):\n",
    "        if board[i][j] == 1:\n",
    "            return False\n",
    "\n",
    "    return True\n",
    "\n",
    "def solve_n_queens(board, col, n):\n",
    "    # Base case: If all queens are placed\n",
    "    if col >= n:\n",
    "        return 1\n",
    "\n",
    "    count = 0\n",
    "    for i in range(n):\n",
    "        if is_safe(board, i, col, n):\n",
    "            board[i][col] = 1\n",
    "            count += solve_n_queens(board, col + 1, n)\n",
    "            board[i][col] = 0  # Backtrack\n",
    "\n",
    "    return count\n",
    "\n",
    "def n_queens_solutions(n):\n",
    "    board = [[0] * n for _ in range(n)]\n",
    "    return solve_n_queens(board, 0, n)\n",
    "\n",
    "# Example usage\n",
    "n = int(input(\"Enter the number of Queens: \"))\n",
    "print(f\"Number of solutions for {n}-queens problem: {n_queens_solutions(n)}\")\n"
   ]
  },
  {
   "cell_type": "markdown",
   "metadata": {},
   "source": [
    "Available Denominations : 1,5,7\n",
    "Bill amount=18\n",
    "What will be the min number of coins required to pay the bill."
   ]
  },
  {
   "cell_type": "code",
   "execution_count": 14,
   "metadata": {},
   "outputs": [
    {
     "name": "stdout",
     "output_type": "stream",
     "text": [
      "{7: 2, 5: 0, 1: 4}\n"
     ]
    }
   ],
   "source": [
    "#Greedy Method\n",
    "coins=[1,5,7]\n",
    "amt=18\n",
    "res={7:0,5:0,1:0}\n",
    "while amt>0:\n",
    "    m=coins.pop(coins.index(max(coins)))   #Sort list in reverse\n",
    "    c=amt//m\n",
    "    res[m]+=c\n",
    "    amt=amt%m\n",
    "print(res)  \n"
   ]
  },
  {
   "cell_type": "code",
   "execution_count": 17,
   "metadata": {},
   "outputs": [
    {
     "name": "stdout",
     "output_type": "stream",
     "text": [
      "2 0 4\n"
     ]
    }
   ],
   "source": [
    "#Greedy Method\n",
    "bill=int(input(\"please enter the bill price \"))\n",
    "target=bill\n",
    "count7,count5,count1=0,0,0\n",
    "count7=target//7\n",
    "target-=7*count7\n",
    "count5=target//5\n",
    "target-=5*count5\n",
    "count1=target//1\n",
    "print(count7,count5,count1)"
   ]
  },
  {
   "cell_type": "code",
   "execution_count": null,
   "metadata": {},
   "outputs": [],
   "source": []
  }
 ],
 "metadata": {
  "kernelspec": {
   "display_name": "Python 3",
   "language": "python",
   "name": "python3"
  },
  "language_info": {
   "codemirror_mode": {
    "name": "ipython",
    "version": 3
   },
   "file_extension": ".py",
   "mimetype": "text/x-python",
   "name": "python",
   "nbconvert_exporter": "python",
   "pygments_lexer": "ipython3",
   "version": "3.12.3"
  }
 },
 "nbformat": 4,
 "nbformat_minor": 2
}
