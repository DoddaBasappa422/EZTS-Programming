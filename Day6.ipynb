{
 "cells": [
  {
   "cell_type": "code",
   "execution_count": 2,
   "metadata": {},
   "outputs": [
    {
     "name": "stdout",
     "output_type": "stream",
     "text": [
      "[5, 7, 10, 15, 23]\n",
      "5\n"
     ]
    }
   ],
   "source": [
    "#Bubble sort (heavier at last)\n",
    "L=[10,5,7,23,15]\n",
    "n=len(L)\n",
    "for i in range(0,n):\n",
    "    for j in range(0,n-1-i):\n",
    "        if L[j]>L[j+1]:\n",
    "            L[j],L[j+1]=L[j+1],L[j]\n",
    "print(L)\n",
    "print(L[0])"
   ]
  },
  {
   "cell_type": "code",
   "execution_count": 1,
   "metadata": {},
   "outputs": [
    {
     "name": "stdout",
     "output_type": "stream",
     "text": [
      "[2, 4, 5, 7, 8, 17, 88]\n"
     ]
    }
   ],
   "source": [
    "#selection sort (minimal at start)\n",
    "l=[8,2,17,4,88,7,5]\n",
    "for i in range(0,len(l)):\n",
    "    pos=i\n",
    "    min=l[i]\n",
    "    for j in range(i,len(l)):\n",
    "        if l[j]<min:\n",
    "            min=l[j]\n",
    "            pos=j\n",
    "    l[i],l[pos]=l[pos],l[i]\n",
    "print(l)\n",
    "\n",
    "\n",
    "\n",
    "\n",
    "\n"
   ]
  },
  {
   "cell_type": "code",
   "execution_count": 21,
   "metadata": {},
   "outputs": [
    {
     "name": "stdout",
     "output_type": "stream",
     "text": [
      "Sorted= [5, 7, 10, 15, 23]\n"
     ]
    }
   ],
   "source": [
    "#insertion sort\n",
    "L=[10,5,7,23,15]\n",
    "n=len(L)\n",
    "for i in range(1,n):\n",
    "    min=L[i]\n",
    "    j=i-1\n",
    "    while j>=0 and  min<L[j]:\n",
    "        L[j+1]=L[j]\n",
    "        j=j-1\n",
    "    L[j+1]=min\n",
    "\n",
    "print(\"Sorted=\",L)\n",
    "\n"
   ]
  },
  {
   "cell_type": "code",
   "execution_count": 3,
   "metadata": {},
   "outputs": [
    {
     "name": "stdout",
     "output_type": "stream",
     "text": [
      "0\n",
      "1\n",
      "2\n",
      "3\n",
      "4\n",
      "5\n",
      "6\n",
      "7\n",
      "8\n",
      "9\n",
      "9\n",
      "8\n",
      "7\n",
      "6\n",
      "5\n",
      "4\n",
      "3\n",
      "2\n",
      "1\n",
      "0\n"
     ]
    }
   ],
   "source": [
    "#Recursion \n",
    "def print_n(n): #increasing order\n",
    "    if n<10:\n",
    "        print(n) #increasing order (before function call)\n",
    "        print_n(n+1)\n",
    "        print(n) #decreasing order (after function call)\n",
    "print_n(0)\n",
    "\n"
   ]
  },
  {
   "cell_type": "code",
   "execution_count": 5,
   "metadata": {},
   "outputs": [
    {
     "name": "stdout",
     "output_type": "stream",
     "text": [
      "0 1 1 2 3 "
     ]
    }
   ],
   "source": [
    "#Fibonacci series using recursion\n",
    "def fib(n):\n",
    "    if n<=1:\n",
    "        return n\n",
    "    else:\n",
    "        return fib(n-1)+fib(n-2)\n",
    "        \n",
    "n=int(input(\"enter number of terms: \"))\n",
    "for i in range(n):\n",
    "    print(fib(i),end=\" \")\n",
    "\n"
   ]
  },
  {
   "cell_type": "code",
   "execution_count": 4,
   "metadata": {},
   "outputs": [
    {
     "name": "stdout",
     "output_type": "stream",
     "text": [
      "120\n"
     ]
    }
   ],
   "source": [
    "#factorial using recursion\n",
    "def fact(n):\n",
    "    if n==0 or n==1:\n",
    "        return 1\n",
    "    else:\n",
    "        return  n * fact(n-1)\n",
    "n=int(input(\"Enter the number:\" ))\n",
    "print(fact(n))\n",
    "\n",
    "\n",
    "\n"
   ]
  },
  {
   "cell_type": "code",
   "execution_count": 3,
   "metadata": {},
   "outputs": [
    {
     "name": "stdout",
     "output_type": "stream",
     "text": [
      "0 8\n",
      "4 0 8\n",
      "0 0 3\n",
      "3 1 3\n",
      "1 1 2\n",
      "6 5 8\n",
      "8 7 8\n",
      "Sorted=  [1, 2, 3, 4, 5, 6, 7, 8, 9]\n"
     ]
    }
   ],
   "source": [
    "#Quick sort\n",
    "\n",
    "def divide(L,l,h):\n",
    "    g=L[h]\n",
    "    p=h\n",
    "    j=l-1\n",
    "    for i in range(l,h):\n",
    "        if L[i]<=g:\n",
    "            j+=1\n",
    "            L[i],L[j]=L[j],L[i]\n",
    "    j+=1\n",
    "    L[j],L[p]=L[p],L[j]\n",
    "    p=j\n",
    "    return p\n",
    "\n",
    "def Quick_sort(L,l,h):\n",
    "    if l<h:\n",
    "        p=divide(L,l,h)\n",
    "        print(p,l,h)\n",
    "        Quick_sort(L,l,p-1)\n",
    "        Quick_sort(L,p+1,h)\n",
    "    return\n",
    "\n",
    "if __name__==\"__main__\" :\n",
    "    L=list(map(int,input().split()))\n",
    "    l=0\n",
    "    h=len(L)-1\n",
    "    print(l,h)\n",
    "    Quick_sort(L,l,h)\n",
    "    print(\"Sorted= \",L)\n",
    "    "
   ]
  },
  {
   "cell_type": "code",
   "execution_count": 27,
   "metadata": {},
   "outputs": [
    {
     "name": "stdout",
     "output_type": "stream",
     "text": [
      "Sorted= [1, 3, 4, 5, 6, 8]\n"
     ]
    }
   ],
   "source": [
    "#Merge Sort \n",
    "def merge(L,low,mid,high,temp):\n",
    "    left=L[low:mid+1]\n",
    "    right=L[mid+1:high+1]\n",
    "    \n",
    "    i,j,t=0,0,low\n",
    "    while i<len(left) and j<len(right):\n",
    "        if left[i]<=right[j]:\n",
    "            temp[t]=left[i]\n",
    "            i=i+1\n",
    "            t=t+1\n",
    "        else:\n",
    "            temp[t]=right[j]\n",
    "            j=j+1\n",
    "            t=t+1\n",
    "    while i<len(left):   \n",
    "        temp[t]=left[i]\n",
    "        i=i+1\n",
    "        t=t+1\n",
    "    while j<len(right):\n",
    "        temp[t]=right[j]\n",
    "        j=j+1\n",
    "        t=t+1\n",
    "    for i in range(low,high+1):\n",
    "        L[i]=temp[i]\n",
    "def mergesort(L,low,high,temp):\n",
    "    if low<high:\n",
    "        mid=low+(high-low)//2\n",
    "        mergesort(L,low,mid,temp)\n",
    "        mergesort(L,mid+1,high,temp)\n",
    "        merge(L,low,mid,high,temp)\n",
    "    return\n",
    "if __name__==\"__main__\":\n",
    "    L=list(map(int,input().split()))\n",
    "    low=0\n",
    "    high=len(L)-1\n",
    "    temp=[0]*len(L)\n",
    "    mergesort(L,low,high,temp)\n",
    "    print(\"Sorted=\",L)\n",
    "            "
   ]
  },
  {
   "cell_type": "code",
   "execution_count": null,
   "metadata": {},
   "outputs": [],
   "source": []
  }
 ],
 "metadata": {
  "kernelspec": {
   "display_name": "Python 3",
   "language": "python",
   "name": "python3"
  },
  "language_info": {
   "codemirror_mode": {
    "name": "ipython",
    "version": 3
   },
   "file_extension": ".py",
   "mimetype": "text/x-python",
   "name": "python",
   "nbconvert_exporter": "python",
   "pygments_lexer": "ipython3",
   "version": "3.12.3"
  }
 },
 "nbformat": 4,
 "nbformat_minor": 2
}
