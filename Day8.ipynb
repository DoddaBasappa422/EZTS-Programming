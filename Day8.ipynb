{
 "cells": [
  {
   "cell_type": "code",
   "execution_count": 1,
   "metadata": {},
   "outputs": [
    {
     "name": "stdout",
     "output_type": "stream",
     "text": [
      "5\n",
      "3\n",
      "6\n",
      "8\n",
      "4\n",
      "7\n",
      "2\n",
      "1\n"
     ]
    }
   ],
   "source": [
    "#traversing Graph using DFS\n",
    "def DFS(graph):\n",
    "    v={}\n",
    "    for i in graph.keys():\n",
    "        v[i]=False\n",
    "    s=[]\n",
    "    DFShelper(graph,v,s,1)\n",
    "def DFShelper(graph,v,s,e):\n",
    "    if v[e]==False:\n",
    "        s.append(e)\n",
    "        v[e]=True\n",
    "    else:\n",
    "        return\n",
    "    for i in graph[e]:\n",
    "        DFShelper(graph,v,s,i[1])\n",
    "    print(s.pop())\n",
    "\n",
    "\n",
    "graph={\n",
    "    1:[(1,2,0),(1,3,0)],\n",
    "    2:[(2,1,0),(2,7,0)],\n",
    "    3:[(3,1,0),(3,5,0),(3,6,0)],\n",
    "    4:[(4,7,0),(4,8,0)],\n",
    "    5:[(5,3,0),(5,7,0)],\n",
    "    6:[(6,3,0),(6,8,0)],\n",
    "    7:[(7,2,0),(7,4,0),(7,5,0)],\n",
    "    8:[(8,4,0),(8,6,0)]\n",
    "}        \n",
    "DFS(graph)\n"
   ]
  },
  {
   "cell_type": "code",
   "execution_count": 14,
   "metadata": {},
   "outputs": [
    {
     "name": "stdout",
     "output_type": "stream",
     "text": [
      "1\n",
      "2\n",
      "3\n",
      "7\n",
      "6\n",
      "5\n",
      "4\n",
      "8\n"
     ]
    }
   ],
   "source": [
    "#traversing Graph using BFS\n",
    "def bfs(A,e):\n",
    "    Q=[e]\n",
    "    v={}\n",
    "    for i in A.keys():\n",
    "        v[i]=False\n",
    "    v[e]=True\n",
    "    while len(Q)!=0:\n",
    "        cur=Q.pop(0)\n",
    "        print(cur)\n",
    "        for i in A[cur]:\n",
    "            if v[i[1]]==False:\n",
    "                Q.append(i[1])\n",
    "                v[i[1]]=True\n",
    "\n",
    "\n",
    "\n",
    "A= {\n",
    "    1:[(1,2,0),(1,3,0)],\n",
    "    2:[(2,1,0),(2,7,0)],\n",
    "    3:[(3,1,0),(3,6,0),(3,5,0)],\n",
    "    4:[(4,7,0),(4,8,0)],\n",
    "    5:[(5,3,0),(5,7,0)],\n",
    "    6:[(6,3,0),(6,8,0)],\n",
    "    7:[(7,2,0),(7,5,0),(7,4,0)],\n",
    "    8:[(8,4,0),(8,6,0)]\n",
    "}\n",
    "bfs(A,1)\n"
   ]
  },
  {
   "cell_type": "code",
   "execution_count": 3,
   "metadata": {},
   "outputs": [
    {
     "name": "stdout",
     "output_type": "stream",
     "text": [
      "2\n",
      "3\n",
      "4\n",
      "5\n",
      "7\n",
      "8\n",
      "9\n"
     ]
    }
   ],
   "source": [
    "#Binary search tree\n",
    "\n",
    "class node():\n",
    "    def __init__(self,data):\n",
    "        self.value=data\n",
    "        self.left=None\n",
    "        self.right=None\n",
    "\n",
    "def BST(root,val):\n",
    "    if root==None:\n",
    "        return node(val)\n",
    "    if root.value>val:\n",
    "        root.left=BST(root.left,val)\n",
    "    if root.value<val:\n",
    "        root.right=BST(root.right,val)\n",
    "    return root\n",
    "def inorder(root):\n",
    "    if root==None:\n",
    "        return\n",
    "    inorder(root.left)\n",
    "    print(root.value)\n",
    "    inorder(root.right)\n",
    "\n",
    "list=[4,6,7,3,8,2,5,9]\n",
    "root=node(list.pop(0))\n",
    "for i in range(1,len(list)):\n",
    "    BST(root,list[i])   \n",
    "inorder(root)   \n",
    " "
   ]
  },
  {
   "cell_type": "code",
   "execution_count": null,
   "metadata": {},
   "outputs": [],
   "source": [
    "#AVL tree\n"
   ]
  }
 ],
 "metadata": {
  "kernelspec": {
   "display_name": "Python 3",
   "language": "python",
   "name": "python3"
  },
  "language_info": {
   "codemirror_mode": {
    "name": "ipython",
    "version": 3
   },
   "file_extension": ".py",
   "mimetype": "text/x-python",
   "name": "python",
   "nbconvert_exporter": "python",
   "pygments_lexer": "ipython3",
   "version": "3.12.3"
  }
 },
 "nbformat": 4,
 "nbformat_minor": 2
}
