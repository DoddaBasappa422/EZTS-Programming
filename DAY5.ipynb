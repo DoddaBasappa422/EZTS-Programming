{
 "cells": [
  {
   "cell_type": "code",
   "execution_count": 1,
   "metadata": {},
   "outputs": [
    {
     "name": "stdout",
     "output_type": "stream",
     "text": [
      "[10, 20, 30, 40]\n",
      "40\n",
      "[10, 20, 30]\n"
     ]
    }
   ],
   "source": [
    "class stack:\n",
    "    def __init__(self) :\n",
    "        self.items=[]\n",
    "    def push(self,data):\n",
    "        self.items.append(data)\n",
    "    def pop(self):\n",
    "        return self.items.pop()\n",
    "    def size(self):\n",
    "        return len(self.items)\n",
    "    \n",
    "s=stack()\n",
    "s.push(10)\n",
    "s.push(20)\n",
    "s.push(30)\n",
    "s.push(40)\n",
    "print(s.items)\n",
    "print(s.pop())\n",
    "print(s.items)\n"
   ]
  },
  {
   "cell_type": "markdown",
   "metadata": {},
   "source": [
    "A student is given a task to create some mathematical expression for BODMAS.\n",
    "But due to some other work he forgot to do it.so, in the night he clicked that he have to create \n",
    "some expression for BODMAS due to sleepy mood he did some mistakes while putting the brackets ,\n",
    "you job is to check whether the expression gieven by t=student is valid or not.\n",
    "Sample Input:\n",
    "[3+7(52/11(3+5))] valid expression as all the brackets are properly open and close .\n",
    "[4-6{235(9+6).] Invalid expression as some breackeys are not proper."
   ]
  },
  {
   "cell_type": "code",
   "execution_count": 6,
   "metadata": {},
   "outputs": [
    {
     "name": "stdout",
     "output_type": "stream",
     "text": [
      "valid\n",
      "[]\n"
     ]
    }
   ],
   "source": [
    "class Stack:\n",
    "    def __init__(self):\n",
    "        self.items = []\n",
    "    \n",
    "    def push(self, item):\n",
    "        self.items.append(item)\n",
    "    \n",
    "    def pop(self):\n",
    "        if not self.is_empty():\n",
    "            return self.items.pop()\n",
    "        return None\n",
    "    \n",
    "    def size(self):\n",
    "        return len(self.items)\n",
    "    \n",
    "    def is_empty(self):\n",
    "        return self.items == []\n",
    "\n",
    "# Test for valid brackets\n",
    "e = \"[3+7(52/11(3+5))]\"\n",
    "s = Stack()\n",
    "OB = \"[{(\"\n",
    "CB = \")}]\"\n",
    "flag = 0\n",
    "\n",
    "for i in e:\n",
    "    if i in OB:\n",
    "        s.push(i)\n",
    "    if i in CB:\n",
    "        if s.is_empty():\n",
    "            flag = 1\n",
    "            break\n",
    "        x = s.pop()\n",
    "        if x == \"(\" and i == \")\":\n",
    "            pass\n",
    "        elif x == \"{\" and i == \"}\":\n",
    "            pass\n",
    "        elif x == \"[\" and i == \"]\":\n",
    "            pass\n",
    "        else:\n",
    "            flag = 1        \n",
    "            break\n",
    "\n",
    "if flag == 0 and s.size() == 0:\n",
    "    print(\"valid\")\n",
    "else:\n",
    "    print(\"invalid\")\n",
    "\n",
    "print(s.items)\n"
   ]
  },
  {
   "cell_type": "code",
   "execution_count": 46,
   "metadata": {},
   "outputs": [
    {
     "name": "stdout",
     "output_type": "stream",
     "text": [
      "[5, 14, 14, -1, 7, 7, 9, -1, 6, 9, -1, 5, 5, -1, -1]\n"
     ]
    }
   ],
   "source": [
    "#o/p:[5,14,14,-1,7,7,9,-1,6,9,-1,5,5,-1,-1]\n",
    "\n",
    "\n",
    "l=[3,5,2,14,5,3,7,9,4,6,9,4,2,5,3]\n",
    "n=[0]*len(l)\n",
    "for i in range(0,len(l)): \n",
    "    for j in range(i,len(l)):\n",
    "        if l[i]<l[j]:\n",
    "            n[i]=l[j]\n",
    "            i=i+1\n",
    "            break\n",
    "        if l[i]>=l[j]:\n",
    "            n[i]=-1       \n",
    "print(n)\n",
    "\n"
   ]
  },
  {
   "cell_type": "code",
   "execution_count": 3,
   "metadata": {},
   "outputs": [
    {
     "name": "stdout",
     "output_type": "stream",
     "text": [
      "[14, 14, 14, -1, 9, 9, 9, -1, 9, 9, -1, 5, 5, -1, -1]\n"
     ]
    }
   ],
   "source": [
    "#Stack\n",
    "class stack:\n",
    "    def __init__(self) :\n",
    "        self.l=[]\n",
    "    def push(self,data):\n",
    "        self.l.append(data)\n",
    "    def pop(self):\n",
    "        return self.l.pop()\n",
    "    def size(self):\n",
    "        return len(self.l)\n",
    "    def top(self):\n",
    "        return self.l[0]\n",
    "l=[3,5,2,14,5,3,7,9,4,6,9,4,2,5,3]\n",
    "n=[0]*len(l)\n",
    "s=stack()\n",
    "for i in range(len(l)-1,-1,-1):\n",
    "    if s.size()!=0:\n",
    "        while s.size()!=0 and s.top()<=l[i]:\n",
    "            if s.top()<=l[i]:\n",
    "                s.pop()\n",
    "    if s.size()==0:\n",
    "        n[i]=-1\n",
    "    else:\n",
    "        n[i]=s.top()\n",
    "    s.push(l[i])\n",
    "print(n)\n",
    "\n"
   ]
  },
  {
   "cell_type": "code",
   "execution_count": 38,
   "metadata": {},
   "outputs": [
    {
     "name": "stdout",
     "output_type": "stream",
     "text": [
      "[10, 20, 30, 40]\n",
      "10\n",
      "[20, 30, 40]\n"
     ]
    }
   ],
   "source": [
    "#Queue \n",
    "class Queue:\n",
    "    def __init__(self) :\n",
    "        self.items=[]\n",
    "    def push(self,data):\n",
    "        self.items.append(data)\n",
    "    def pop(self):\n",
    "        return self.items.pop(0)\n",
    "    def size(self):\n",
    "        return len(self.items)\n",
    "q=Queue() \n",
    "q.push(10)\n",
    "q.push(20)\n",
    "q.push(30)\n",
    "q.push(40)\n",
    "print(q.items)\n",
    "print(q.pop())\n",
    "print(q.items)"
   ]
  },
  {
   "cell_type": "code",
   "execution_count": 2,
   "metadata": {},
   "outputs": [
    {
     "name": "stdout",
     "output_type": "stream",
     "text": [
      "<__main__.Node object at 0x000002717FBA0530>\n",
      "<__main__.Node object at 0x000002717FBA0320>\n",
      "<__main__.Node object at 0x000002717FBA0320>\n"
     ]
    }
   ],
   "source": [
    "#Linked List\n",
    "class Node:\n",
    "    def __init__(self,data):\n",
    "        self.value=data\n",
    "        self.next=None\n",
    "\n",
    "Head=Tail=Node(10)\n",
    "Tail.next=Node(20)\n",
    "Tail=Tail.next\n",
    "Tail.next=Node(30)\n",
    "Tail=Tail.next\n",
    "Tail.next=Node(40)\n",
    "Tail=Tail.next\n",
    "print(Head)\n",
    "print(Tail)\n",
    "print(Head.next.next.next)\n",
    "\n",
    "\n"
   ]
  },
  {
   "cell_type": "code",
   "execution_count": 3,
   "metadata": {},
   "outputs": [
    {
     "name": "stdout",
     "output_type": "stream",
     "text": [
      "10\n",
      "20\n",
      "30\n",
      "40\n"
     ]
    }
   ],
   "source": [
    "def print_link_list(Head):\n",
    "    if Head==None:\n",
    "        print(\"List is Empty\")\n",
    "        return\n",
    "    cur=Head\n",
    "    while cur!=None:\n",
    "        print(cur.value)\n",
    "        cur=cur.next\n",
    "    \n",
    "\n",
    "print_link_list(Head)\n"
   ]
  },
  {
   "cell_type": "code",
   "execution_count": 12,
   "metadata": {},
   "outputs": [
    {
     "name": "stdout",
     "output_type": "stream",
     "text": [
      "6.0\n"
     ]
    }
   ],
   "source": [
    "#operators\n",
    "s = input(\"Enter the expression: \")\n",
    "op = [\"+\", \"-\", \"*\", \"/\", \"//\", \"%\", \"**\"]\n",
    "\n",
    "# Find the operator in the expression\n",
    "x = None\n",
    "for o in op:\n",
    "    if o in s:\n",
    "        x = o\n",
    "        s = s.replace(o, \" \", 1)  # Replace the first occurrence of the operator\n",
    "        break\n",
    "\n",
    "if x:\n",
    "    # Split the string and convert to floats\n",
    "    l = list(map(float, s.split(\" \")))\n",
    "\n",
    "    # Perform the operation based on the operator found\n",
    "    match x:\n",
    "        case '+':\n",
    "            print(l[0] + l[1])\n",
    "        case '-':\n",
    "            print(l[0] - l[1])\n",
    "        case '*':\n",
    "            print(l[0] * l[1])\n",
    "        case '/':\n",
    "            print(l[0] / l[1])\n",
    "        case '//':\n",
    "            print(l[0] // l[1])\n",
    "        case '%':\n",
    "            print(l[0] % l[1])\n",
    "        case '**':\n",
    "            print(l[0] ** l[1])\n",
    "else:\n",
    "    print(\"No valid operator found in the expression\")\n"
   ]
  },
  {
   "cell_type": "code",
   "execution_count": 15,
   "metadata": {},
   "outputs": [
    {
     "name": "stdout",
     "output_type": "stream",
     "text": [
      "0 -> 1 -> 1.5 -> 2 -> 3 -> None\n",
      "1 -> 1.5 -> 2 -> 3 -> None\n",
      "1 -> 1.5 -> 2 -> None\n",
      "1 -> 2 -> None\n"
     ]
    }
   ],
   "source": [
    "#Single linked list\n",
    "class Node:\n",
    "    def __init__(self, data):\n",
    "        self.data = data\n",
    "        self.next = None\n",
    "class LinkedList:\n",
    "    def __init__(self):\n",
    "        self.head = None\n",
    "\n",
    "    def insert_at_beginning(self, data):\n",
    "        new_node = Node(data)\n",
    "        new_node.next = self.head\n",
    "        self.head = new_node\n",
    "\n",
    "    def insert_at_end(self, data):\n",
    "        new_node = Node(data)\n",
    "        if self.head is None:\n",
    "            self.head = new_node\n",
    "            return\n",
    "        last = self.head\n",
    "        while last.next!=None:\n",
    "            last = last.next\n",
    "        last.next = new_node\n",
    "\n",
    "    def insert_at_position(self, data, position):\n",
    "        if position < 0:\n",
    "            print(\"Position cannot be negative\")\n",
    "            return\n",
    "        new_node = Node(data)\n",
    "        if position == 0:\n",
    "            new_node.next = self.head\n",
    "            self.head = new_node\n",
    "            return\n",
    "        temp = self.head\n",
    "        for _ in range(position - 1):\n",
    "            if temp is None:\n",
    "                print(\"Position out of bounds\")\n",
    "                return\n",
    "            temp = temp.next\n",
    "        if temp is None:\n",
    "            print(\"Position out of bounds\")\n",
    "            return\n",
    "        new_node.next = temp.next\n",
    "        temp.next = new_node\n",
    "\n",
    "    def delete_at_beginning(self):\n",
    "        if self.head is None:\n",
    "            print(\"List is empty\")\n",
    "            return\n",
    "        self.head = self.head.next\n",
    "\n",
    "    def delete_at_end(self):\n",
    "        if self.head is None:\n",
    "            print(\"List is empty\")\n",
    "            return\n",
    "        if self.head.next is None:\n",
    "            self.head = None\n",
    "            return\n",
    "        second_last = self.head\n",
    "        while second_last.next.next!=None:\n",
    "            second_last = second_last.next\n",
    "        second_last.next = None\n",
    "\n",
    "    def delete_at_position(self, position):\n",
    "        if position < 0:\n",
    "            print(\"Position cannot be negative\")\n",
    "            return\n",
    "        if self.head is None:\n",
    "            print(\"List is empty\")\n",
    "            return\n",
    "        if position == 0:\n",
    "            self.head = self.head.next\n",
    "            return\n",
    "        temp = self.head\n",
    "        for _ in range(position - 1):\n",
    "            if temp is None or temp.next is None:\n",
    "                print(\"Position out of bounds\")\n",
    "                return\n",
    "            temp = temp.next\n",
    "        if temp.next is None:\n",
    "            print(\"Position out of bounds\")\n",
    "            return\n",
    "        temp.next = temp.next.next\n",
    "\n",
    "    def print_list(self):\n",
    "        temp = self.head\n",
    "        while temp!=None:\n",
    "            print(temp.data, end=\" -> \")\n",
    "            temp = temp.next\n",
    "        print(\"None\")\n",
    "\n",
    "# Example usage\n",
    "if __name__ == \"__main__\":\n",
    "    ll = LinkedList()\n",
    "    ll.insert_at_end(1)\n",
    "    ll.insert_at_end(2)\n",
    "    ll.insert_at_end(3)\n",
    "    ll.insert_at_beginning(0)\n",
    "    ll.insert_at_position(1.5, 2)\n",
    "    ll.print_list()  # Output: 0 -> 1 -> 1.5 -> 2 -> 3 -> None\n",
    "\n",
    "    ll.delete_at_beginning()\n",
    "    ll.print_list()  # Output: 1 -> 1.5 -> 2 -> 3 -> None\n",
    "\n",
    "    ll.delete_at_end()\n",
    "    ll.print_list()  # Output: 1 -> 1.5 -> 2 -> None\n",
    "\n",
    "    ll.delete_at_position(1)\n",
    "    ll.print_list()  # Output: 1 -> 2 -> None\n"
   ]
  }
 ],
 "metadata": {
  "kernelspec": {
   "display_name": "Python 3",
   "language": "python",
   "name": "python3"
  },
  "language_info": {
   "codemirror_mode": {
    "name": "ipython",
    "version": 3
   },
   "file_extension": ".py",
   "mimetype": "text/x-python",
   "name": "python",
   "nbconvert_exporter": "python",
   "pygments_lexer": "ipython3",
   "version": "3.12.3"
  }
 },
 "nbformat": 4,
 "nbformat_minor": 2
}
