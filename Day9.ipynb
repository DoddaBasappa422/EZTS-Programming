{
 "cells": [
  {
   "cell_type": "code",
   "execution_count": 5,
   "metadata": {},
   "outputs": [
    {
     "name": "stdout",
     "output_type": "stream",
     "text": [
      "0\n",
      "7\n",
      "12\n",
      "17\n",
      "19\n",
      "21\n",
      "27\n",
      "29\n",
      "34\n",
      "38\n",
      "75\n",
      "99\n",
      "100\n",
      "134\n",
      "143\n"
     ]
    }
   ],
   "source": [
    "#AVL tree\n",
    "\n",
    "class node:\n",
    "    def __init__(self,data):\n",
    "        self.value=data\n",
    "        self.left=None\n",
    "        self.right=None\n",
    "        self.height=1\n",
    "def insert(root,val):\n",
    "    if root==None:\n",
    "        return node(val)\n",
    "    if val<root.value:\n",
    "        root.left=insert(root.left,val)\n",
    "    if val>root.value:\n",
    "        root.right=insert(root.right,val)   \n",
    "    root.height=1+max(ght(root.left),ght(root.right))\n",
    "    \n",
    "    BF=getBF(root)\n",
    "\n",
    "    #Right Rotation\n",
    "    if BF>1 and val<root.left.value:\n",
    "        return rightRotation(root)\n",
    "    \n",
    "    #Right Left Rotation\n",
    "    if BF>1 and val>root.left.value:\n",
    "        root.left=leftRotation(root.left)\n",
    "        return rightRotation(root)\n",
    "    \n",
    "    #Left Rotation\n",
    "    if BF<-1 and val>root.right.value:\n",
    "        return leftRotation(root)\n",
    "    \n",
    "    #Left Right Rotation\n",
    "    if BF<-1 and val<root.right.value:\n",
    "        root.right=rightRotation(root.right)\n",
    "        return leftRotation(root)\n",
    "    return root\n",
    "\n",
    "#calculate height\n",
    "def ght(root):\n",
    "    if root==None:\n",
    "        return 0\n",
    "    return root.height\n",
    "\n",
    "#Calculate BF\n",
    "def getBF(root):\n",
    "    if not root:\n",
    "        return 0\n",
    "    return ght(root.left)-ght(root.right)\n",
    "\n",
    "#left roatate function\n",
    "def leftRotation(A):\n",
    "    B=A.right\n",
    "    temp=B.left\n",
    "    B.left=A\n",
    "    A.right=temp\n",
    "    A.height=1+max(ght(A.left),ght(A.right))\n",
    "    B.height=1+max(ght(B.left),ght(B.right))\n",
    "\n",
    "    return B\n",
    "\n",
    "#right roatate function\n",
    "def rightRotation(A):\n",
    "    B=A.left\n",
    "    temp=B.right\n",
    "    B.right=A\n",
    "    A.left=temp\n",
    "    A.height=1+max(ght(A.left),ght(A.right))\n",
    "    B.height=1+max(ght(B.left),ght(B.right))\n",
    "\n",
    "    return B\n",
    "\n",
    "#print the data in inorder format\n",
    "def inorder(root):\n",
    "    if root==None:\n",
    "        return\n",
    "    inorder(root.left)\n",
    "    print(root.value)\n",
    "    inorder(root.right)\n",
    "\n",
    "if __name__==\"__main__\":\n",
    "    root=None\n",
    "    VL=[19,99,75,7,21,34,38,27,134,100,29,0,12,17,143]\n",
    "    for i in VL:\n",
    "        root=insert(root,i)\n",
    "    inorder(root)\n"
   ]
  },
  {
   "cell_type": "code",
   "execution_count": 7,
   "metadata": {},
   "outputs": [
    {
     "name": "stdout",
     "output_type": "stream",
     "text": [
      "99001\n"
     ]
    }
   ],
   "source": [
    "#Commas\n",
    "c=0\n",
    "for i in range(1000,100001):\n",
    "    c=c+1\n",
    "print(c)\n",
    "\n",
    "\n",
    "\n",
    "\n"
   ]
  },
  {
   "cell_type": "code",
   "execution_count": 8,
   "metadata": {},
   "outputs": [
    {
     "data": {
      "text/plain": [
       "99001"
      ]
     },
     "execution_count": 8,
     "metadata": {},
     "output_type": "execute_result"
    }
   ],
   "source": [
    "100000-999\n"
   ]
  },
  {
   "cell_type": "code",
   "execution_count": 11,
   "metadata": {},
   "outputs": [
    {
     "name": "stdout",
     "output_type": "stream",
     "text": [
      "99001\n"
     ]
    }
   ],
   "source": [
    "n=int(input())\n",
    "print(n-1000+1)\n"
   ]
  },
  {
   "cell_type": "code",
   "execution_count": 1,
   "metadata": {},
   "outputs": [
    {
     "name": "stdout",
     "output_type": "stream",
     "text": [
      "2\n"
     ]
    }
   ],
   "source": [
    "#smaller positive number\n",
    "l=[2,3,4,-1,-2]\n",
    "\n",
    "for i in range(0,len(l)):\n",
    "    pos=i\n",
    "    min=l[i]\n",
    "    for j in range(i,len(l)):\n",
    "        if l[j]<min:\n",
    "            min=l[j]\n",
    "            pos=j\n",
    "    l[i],l[pos]=l[pos],l[i]\n",
    "for i in l:\n",
    "    if i>0:\n",
    "        print(i)\n",
    "        break\n"
   ]
  },
  {
   "cell_type": "code",
   "execution_count": null,
   "metadata": {},
   "outputs": [],
   "source": []
  }
 ],
 "metadata": {
  "kernelspec": {
   "display_name": "Python 3",
   "language": "python",
   "name": "python3"
  },
  "language_info": {
   "codemirror_mode": {
    "name": "ipython",
    "version": 3
   },
   "file_extension": ".py",
   "mimetype": "text/x-python",
   "name": "python",
   "nbconvert_exporter": "python",
   "pygments_lexer": "ipython3",
   "version": "3.12.3"
  }
 },
 "nbformat": 4,
 "nbformat_minor": 2
}
