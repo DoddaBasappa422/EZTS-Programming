{
 "cells": [
  {
   "cell_type": "code",
   "execution_count": 1,
   "metadata": {},
   "outputs": [
    {
     "name": "stdout",
     "output_type": "stream",
     "text": [
      "{'as': 'ahdghjb jkasb'}\n",
      "{'as': 'a'}\n",
      "{'as': 'ahdghjb jkasb', 'sa': 'assbdhasb asjkb'}\n",
      "{'sa': 'a'}\n",
      "{'as': 'ahdghjb jkasb', 'sa': 'assbdhasb asjkb', 'ab': 'jasbhjddba hjasbs'}\n",
      "{'ab': 'a'}\n",
      "{'as': 'ahdghjb jkasb', 'sa': 'assbdhasb asjkb', 'ab': 'jasbhjddba hjasbs', 'erj ': 'oklmnn., lkjhmfg'}\n",
      "{'erj ': 'a'}\n",
      "{'as': 'ahdghjb jkasb', 'sa': 'assbdhasb asjkb', 'ab': 'jasbhjddba hjasbs', 'erj ': 'oklmnn., lkjhmfg', 'kmf': 'lkdfjglkd dflkgjlk'}\n",
      "{'kmf': 'a'}\n"
     ]
    }
   ],
   "source": [
    "#owels\n",
    "f={}\n",
    "a,e,i,o,u=0,0,0,0,0\n",
    "dict={'a':a,'e':e,'i':i,'o':o,'u':u}\n",
    "v='aeiou'\n",
    "for i in range(5):\n",
    "    n=input(\"Enter the name of speaker: \")\n",
    "    s=input(\"Enter the sentence :\")\n",
    "    f[n]=s\n",
    "    for i in s:\n",
    "        if i in v:\n",
    "            match(i):\n",
    "                case 'a':dict['a']+=1 \n",
    "                case 'e':dict['e']+=1\n",
    "                case 'i':dict['i']+=1\n",
    "                case 'o':dict['o']+=1\n",
    "                case 'u':dict['u']+=1\n",
    "    max=0\n",
    "    item=' '\n",
    "    for i in dict:\n",
    "        if dict[i]>=max:\n",
    "            max=dict[i]\n",
    "            item=i\n",
    "    m={}\n",
    "    m[n]=item \n",
    "    print(f)\n",
    "    print(m)\n",
    "    "
   ]
  },
  {
   "cell_type": "code",
   "execution_count": null,
   "metadata": {},
   "outputs": [],
   "source": [
    "#Owels\n",
    "def count_vowel(S):\n",
    "    dic = {'A':0,'E':0,'I':0,'O':0,'U':0}\n",
    "    for i in S:\n",
    "        if i == 'a' or i == 'A':\n",
    "            dic['A'] += 1\n",
    "        if i == 'e' or i == 'E':\n",
    "            dic['E'] += 1\n",
    "        if i == 'i' or i == 'I':\n",
    "            dic['I'] += 1\n",
    "        if i == 'o' or i == 'O':\n",
    "            dic['O'] += 1\n",
    "        if i == 'u' or i == 'U':\n",
    "            dic['U'] += 1\n",
    "    \n",
    "    x=max(dic.values())\n",
    "    result =[]\n",
    "    for i,j in dic.items():\n",
    "        if j == x:\n",
    "            result.append(i)\n",
    "    \n",
    "    return result\n",
    "\n",
    "\n",
    "\n",
    "i_p = [\n",
    "    [\"Alex\", \"I enjoy hiking in the mountains.\"],\n",
    "    [\"Sam\", \"A lovely sunny day at the beach.\"],\n",
    "    [\"Jamie\", \"Reading a book is my favorite pastime.\"],\n",
    "    [\"Taylor\", \"I love playing video games on weekends.\"],\n",
    "    [\"Chris\", \"Exploring new cities is exciting and fun.\"]\n",
    "]\n",
    "\n",
    "o_p = {}\n",
    "\n",
    "for i in i_p:\n",
    "    o_p[i[0]]= count_vowel(i[1])\n",
    "\n",
    "print(o_p)\n",
    "\n"
   ]
  },
  {
   "cell_type": "code",
   "execution_count": 6,
   "metadata": {},
   "outputs": [
    {
     "name": "stdout",
     "output_type": "stream",
     "text": [
      "result\n",
      "27\n",
      "9\n",
      "9\n",
      "9\n"
     ]
    }
   ],
   "source": [
    "# Maxsum\n",
    "l=[2,4,3,5,6,3,4,6,7,9,9,9]\n",
    "window = max = 0\n",
    "k = int(input(\"Enter the no of continious digit: \"))\n",
    "\n",
    "for j in range(0,k):\n",
    "        window+=l[j]\n",
    "l.append(0)\n",
    "for i in range(0,len(l)-k):\n",
    "    if max<window:\n",
    "        max=window\n",
    "        pos=i\n",
    "    window = window+l[i+k]-l[i]\n",
    "\n",
    "print(\"result\")\n",
    "print(max)\n",
    "for j in range(0,k):\n",
    "    print(l[pos+j])\n",
    "    "
   ]
  },
  {
   "cell_type": "markdown",
   "metadata": {},
   "source": [
    "given an integer array . your task is to \n",
    "find the 3 continious digits which gives you the maximum sum where k is entered by user\n",
    " sample input:\n",
    "[2,4,3,5,6,3,4,6,7,1,2,5] \n",
    "\n",
    "output: [4,6,7]"
   ]
  },
  {
   "cell_type": "code",
   "execution_count": 7,
   "metadata": {},
   "outputs": [
    {
     "name": "stdout",
     "output_type": "stream",
     "text": [
      "14\n",
      "18\n",
      "17\n",
      "18\n",
      "19\n",
      "20\n",
      "18\n",
      "20\n"
     ]
    }
   ],
   "source": [
    "si = [2,4,3,5,6,3,4,6,7,1,2,5]\n",
    "l=len(si)\n",
    "k=int(input(\"Enter the number of terms : \"))\n",
    "sum=0\n",
    "maxsum=0\n",
    "for i in range(0,l-k-1):\n",
    "    sum=0\n",
    "    for j in range(0,k):\n",
    "        sum=sum+si[i+j]\n",
    "    print(sum)        \n",
    "    if sum>maxsum:\n",
    "        maxsum=sum\n",
    "        pos=i\n",
    "print(maxsum)\n"
   ]
  }
 ],
 "metadata": {
  "kernelspec": {
   "display_name": "Python 3",
   "language": "python",
   "name": "python3"
  },
  "language_info": {
   "codemirror_mode": {
    "name": "ipython",
    "version": 3
   },
   "file_extension": ".py",
   "mimetype": "text/x-python",
   "name": "python",
   "nbconvert_exporter": "python",
   "pygments_lexer": "ipython3",
   "version": "3.12.3"
  }
 },
 "nbformat": 4,
 "nbformat_minor": 2
}
